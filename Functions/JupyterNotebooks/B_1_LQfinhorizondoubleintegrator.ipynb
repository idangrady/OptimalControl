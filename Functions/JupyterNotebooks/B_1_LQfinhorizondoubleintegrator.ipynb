{
 "cells": [
  {
   "cell_type": "markdown",
   "metadata": {},
   "source": [
    "# Finite-horizon Linear Quadratic Control of a Double Integrator\n",
    "\n",
    "\n",
    "In this live script we use the linear quadratic regulator framework to control \n",
    "a double integrator system. This live scripts allows to change the parameters \n",
    "of this framework and therefore tune the behavior of the system (see lecture \n",
    "5).\n",
    "\n",
    "Let us start by recalling the linear quadratic regulator framework. It is \n",
    "specified by a finite-horizon quadratic cost function\n",
    "\n",
    "$$\\sum_{k=0}^{h-1}x_k^{T}\\,\\,Qx_k+u_k^TRu_k+x_h^T Q_hx_h $$\n",
    "\n",
    "and a linear model\n",
    "\n",
    "$$ x_{k+1}=Ax_k+Bu_k$$\n",
    "\n",
    "where $k\\in\\{0,\\dots,h-1\\}$. For the double integrator example, the state \n",
    "$x_k$ comprises position $y_k$ and velocity $v_k$, i.e., $x_k= [y_k \\ \\ v_k]^T$, \n",
    "and the control input $u_k$ is force. After discretizing the equation $\\ddot{y}=u$ \n",
    "at a sampling period $\\tau$ (zero order hold discretization) we obtain\n",
    "\n",
    "$$A=e^{\\left[ \\matrix{ 0     & \\tau \\cr    0& 0 } \\right]}={\\left[ \\matrix{ \n",
    "1    & \\tau \\cr    0& 1 } \\right]} B = \\int_0^\\tau e^{As}ds\\left[\\matrix{0 \n",
    "\\cr 1} \\right] = \\left[\\matrix{\\frac{\\tau^2}{2} \\cr \\tau} \\right].$$\n",
    "\n",
    "You can reproduce the behaviors for different cost functions and horizons \n",
    "by running the following code:"
   ]
  },
  {
   "cell_type": "code",
   "execution_count": null,
   "metadata": {},
   "outputs": [],
   "source": [
    "import numpy as np\n",
    "from scipy import signal\n",
    "import matplotlib.pyplot as plt\n",
    "%matplotlib ipympl"
   ]
  },
  {
   "cell_type": "code",
   "execution_count": null,
   "metadata": {},
   "outputs": [],
   "source": [
    "# define the parameters of the problem\n",
    "Ac = np.array([[0, 1],[0, 0]])\n",
    "Bc = np.array([[0],[1]])\n",
    "tau = 0.2\n",
    "A, B, C = signal.cont2discrete((Ac, Bc,  np.zeros((1,2)), np.array([0.2])), tau)[:3]\n",
    "Q = np.array([[1, 0],[ 0, 1]])\n",
    "S = np.array([[0],[0]])\n",
    "R = 1\n",
    "QT = np.array([[1, 0],[ 0, 1]])\n",
    "h = 100\n",
    "P = [ [] for i in range(h+1)]\n",
    "K = [ [] for i in range(h+1)]\n",
    "P[h] = QT\n",
    "\n",
    "# iterate Riccati equations\n",
    "for k in range(h-1,-1,-1):\n",
    "    P[k] = A.T@P[k+1]@A + Q - (S+A.T@P[k+1]@B)*np.linalg.pinv(R+B.T@P[k+1]@B)@(S.T+B.T@P[k+1]@A)\n",
    "    K[k] = -np.linalg.pinv(R+B.T@P[k+1]@B)@(S.T+B.T@P[k+1]@A)\n",
    "\n",
    "\n",
    "# simulate the discrete-time system\n",
    "x0 = np.array([[1],[0]])\n",
    "t = tau*np.linspace(0,h,1)\n",
    "n = 2\n",
    "x = np.zeros((n,h+1))\n",
    "x[:,[0]] = x0\n",
    "u = np.zeros((1,h))\n",
    "for k in range(h):\n",
    "    u[:,[k]] = K[k]@x[:,[k]]\n",
    "    x[:,[k+1]] = A@x[:,[k]]+B@u[:,[k]]\n",
    "\n",
    "v = x[0,:]\n",
    "\n",
    "# emulate a continuous-time simulation by running the system at a much\n",
    "# higher frequency\n",
    "N = 1000\n",
    "ts = tau/N\n",
    "nl = h*N\n",
    "uc = np.kron(u,np.ones((1,N)))\n",
    "Ad, Bd = signal.cont2discrete((Ac, Bc, np.zeros((1,A.shape[0])), np.zeros((1,Bc.shape[1]))), ts)[:2]\n",
    "xc = np.zeros((n,nl+1))\n",
    "xc[:,[0]] = x[:,[0]]\n",
    "for l in range(nl):\n",
    "    xc[:,[l+1]] = Ad@xc[:,[l]]+Bd*uc[0][l]\n",
    "\n",
    "\n",
    "tc = ts*np.arange(0,nl+1)"
   ]
  },
  {
   "cell_type": "code",
   "execution_count": null,
   "metadata": {},
   "outputs": [],
   "source": [
    "# plots\n",
    "f = plt.figure(1)\n",
    "ax = plt.gca()\n",
    "ax.plot(tc,xc[0,:])\n",
    "ax.grid(True)\n",
    "ax.set_xlabel('t');"
   ]
  },
  {
   "cell_type": "code",
   "execution_count": null,
   "metadata": {},
   "outputs": [],
   "source": [
    "f = plt.figure(2)\n",
    "ax = plt.gca()\n",
    "ax.plot(tc,xc[1])\n",
    "ax.grid(True)\n",
    "ax.set_xlabel('t');"
   ]
  },
  {
   "cell_type": "code",
   "execution_count": null,
   "metadata": {},
   "outputs": [],
   "source": [
    "f = plt.figure(3)\n",
    "ax = plt.gca()\n",
    "ax.plot(tc[:-1], uc[0])\n",
    "ax.grid(True)\n",
    "ax.set_xlabel('t');"
   ]
  },
  {
   "cell_type": "code",
   "execution_count": null,
   "metadata": {},
   "outputs": [],
   "source": [
    "f, ax = plt.subplots(1,3)\n",
    "ax[0].plot(tc, xc[0])\n",
    "ax[0].set_xlabel('t')\n",
    "ax[0].set_ylabel('y(t)')\n",
    "ax[0].grid(True)\n",
    "\n",
    "ax[1].plot(tc, xc[1])\n",
    "ax[1].set_xlabel('t')\n",
    "ax[1].set_ylabel('v(t)')\n",
    "ax[1].grid(True)\n",
    "\n",
    "ax[2].plot(tc[:-1], uc[0])\n",
    "ax[2].grid(True)\n",
    "ax[2].set_xlabel('t')\n",
    "ax[2].set_ylabel('u(t)');"
   ]
  },
  {
   "cell_type": "markdown",
   "metadata": {},
   "source": [
    "cost:"
   ]
  },
  {
   "cell_type": "code",
   "execution_count": null,
   "metadata": {},
   "outputs": [],
   "source": [
    "x0.T@P[0]@x0"
   ]
  }
 ],
 "metadata": {
  "kernelspec": {
   "display_name": "Python 3",
   "language": "python",
   "name": "python3"
  },
  "language_info": {
   "codemirror_mode": {
    "name": "ipython",
    "version": 3
   },
   "file_extension": ".py",
   "mimetype": "text/x-python",
   "name": "python",
   "nbconvert_exporter": "python",
   "pygments_lexer": "ipython3",
   "version": "3.7.9"
  }
 },
 "nbformat": 4,
 "nbformat_minor": 4
}
