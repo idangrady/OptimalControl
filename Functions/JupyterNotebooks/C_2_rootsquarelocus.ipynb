{
 "cells": [
  {
   "cell_type": "markdown",
   "metadata": {},
   "source": [
    "# Root square locus\n",
    "\n",
    "\n",
    "The Linear Quadratic Regulator is specified by an infinite-horizon quadratic \n",
    "cost function\n",
    "\n",
    "$$\\int_0^\\infty x^TQ_cx+u^TR_cu dt$$\n",
    "\n",
    "and a linear model\n",
    "\n",
    "$$ \\dot{x}=A_cx+B_cu.$$\n",
    "\n",
    "Under mild assumptions, the optimal policy is\n",
    "\n",
    "$$u(t) = K_cx(t),$$\n",
    "\n",
    "where\n",
    "\n",
    "$$K_c = -R_c^{-1}B^TP_c,$$\n",
    "\n",
    "and $P_c$ is the uniqute positive definite solution to\n",
    "\n",
    "$$0 = A_c^TP_c+P_cA_c + Q_c - P_cB_cR_c^{-1}B_c^TP_c.$$\n",
    "\n",
    "The poles of the closed loop are the eigenvalues of\n",
    "\n",
    "$$A+BK$$\n",
    "\n",
    "Suppose that $B \\in \\mathbb{R}^{n\\times 1}$ and $C \\in \\mathbb{R}^{1\\times n}$. If we pick \n",
    "\n",
    "$$Q_c = M^T M, R = \\rho$$\n",
    "\n",
    "we can obtain the poles by the root square locus method. This follows from the equality\n",
    "\n",
    "$$(1-K \\Phi(-s) B)(1-K \\Phi(s) B))=1+\\frac{1}{R}(M \\Phi(-s) B)(M \\Phi(s) B),$$\n",
    "\n",
    "where $\\Phi(s)=(sI-A)^{-1}$. The zeros of the transfer function on the left \n",
    "hand side correspond to the poles of the LQR closed loop and their counterparts \n",
    "on the right half plane. On the right hand side they only depend on the design \n",
    "parameters $R$ and $M$ and they can be obtained with the root locus method where\n",
    "\n",
    "$$(M \\Phi(-s) B)(M \\Phi(s) B)$$\n",
    "\n",
    "takes the role of the open-loop transfer function and $\\frac{1}{R}$ takes \n",
    "the role of the loop gain. Note that this gives $2n$ poles from which the $n$ \n",
    "roots on the left half plane (stable ones) correspond to the eigenvalues of \n",
    "$A+BK$. \n",
    "\n",
    "The next script plots the root square locus and confirms this fact for a given \n",
    "example."
   ]
  },
  {
   "cell_type": "code",
   "execution_count": null,
   "metadata": {},
   "outputs": [],
   "source": [
    "import numpy as np\n",
    "from scipy import signal\n",
    "import matplotlib.pyplot as plt\n",
    "import control\n",
    "control.use_numpy_matrix(False)\n",
    "%matplotlib ipympl"
   ]
  },
  {
   "cell_type": "code",
   "execution_count": null,
   "metadata": {},
   "outputs": [],
   "source": [
    "# define system matrices\n",
    "A = np.array([[0, 1, 0],[0, 0, 1],[10, 13, 2]])\n",
    "B = np.array([[0],[0],[1]])\n",
    "\n",
    "# pick M and rho\n",
    "M = np.array([10, -6, 1])\n",
    "rho = 1/10\n",
    "\n",
    "# transfer functions of the root square locus method\n",
    "tf1 = control.ss2tf(A,B,M,0)\n",
    "num1 = tf1.num[0][0]\n",
    "den1 = tf1.den[0][0]\n",
    "tf2 = control.ss2tf(-A,B,-M,0)\n",
    "num2 = tf2.num[0][0]\n",
    "den2 = tf2.den[0][0]\n",
    "tf3 = 1+1/rho*tf1*tf2\n",
    "Z = signal.tf2zpk(tf3.num[0][0], tf3.num[0][0])[0]\n",
    "\n",
    "# obtain gains in the traditional way\n",
    "K,S,E = control.lqr(A,B,M.reshape(3,1)@M.reshape(1,3),rho)\n",
    "K = -K\n",
    "Z2 = np.linalg.eig(A+B@K)[0]\n",
    "Z2"
   ]
  },
  {
   "cell_type": "code",
   "execution_count": null,
   "metadata": {},
   "outputs": [],
   "source": [
    "# root square locus\n",
    "fig = plt.figure()\n",
    "control.rlocus(tf1*tf2);"
   ]
  },
  {
   "cell_type": "code",
   "execution_count": null,
   "metadata": {},
   "outputs": [],
   "source": [
    "# compare the location of the poles for the two methods\n",
    "fig = plt.figure()\n",
    "ax = plt.gca()\n",
    "plt.plot(Z.real, Z.imag, 'x')\n",
    "plt.plot(Z2.real, Z2.imag, 'o', fillstyle='none')\n",
    "ax.grid(True)\n",
    "ax.set_xlabel('Re(z)')\n",
    "ax.set_ylabel('Im(z)')\n",
    "ax.set_title('Location of closed loop poles')\n",
    "ax.legend([r'zeros of $1+1\\rho M*(sI-A)^{-1}BM*(-sI-A)^{-1}B$',r'$eig(A+B*K)$']);"
   ]
  },
  {
   "cell_type": "code",
   "execution_count": null,
   "metadata": {},
   "outputs": [],
   "source": []
  }
 ],
 "metadata": {
  "kernelspec": {
   "display_name": "Python 3",
   "language": "python",
   "name": "python3"
  },
  "language_info": {
   "codemirror_mode": {
    "name": "ipython",
    "version": 3
   },
   "file_extension": ".py",
   "mimetype": "text/x-python",
   "name": "python",
   "nbconvert_exporter": "python",
   "pygments_lexer": "ipython3",
   "version": "3.7.9"
  }
 },
 "nbformat": 4,
 "nbformat_minor": 4
}
