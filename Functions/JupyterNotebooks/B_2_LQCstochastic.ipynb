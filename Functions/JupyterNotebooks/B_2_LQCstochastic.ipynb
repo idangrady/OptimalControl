{
 "cells": [
  {
   "cell_type": "markdown",
   "metadata": {},
   "source": [
    "# Linear Quadratic Control with Stochastic disturbances\n",
    "\n",
    "\n",
    "In this live script, we use the finite-horizon linear quadratic control framework \n",
    "to control a system in the presence of disturbances. Not only we show that the \n",
    "controller can indeed cope with disturbances, but we also show that the cost \n",
    "predicted theoretically matches the cost obtained by monte-carlo simulations.\n",
    "\n",
    "Let us start by recalling the finite-horizon linear quadratic control framework. \n",
    "It is specified by a finite-horizon quadratic expected cost function\n",
    "\n",
    "$$\\mathbb{E}[\\sum_{k=0}^{h-1}x_k^{T}\\,\\,Qx_k+u_k^TRu_k+x_h^T Q_hx_h] $$\n",
    "\n",
    "and a linear model\n",
    "\n",
    "$$ x_{k+1}=Ax_k+Bu_k+w_k$$\n",
    "\n",
    "where $k\\in\\{0,\\dots,h-1\\}$ and $w_k$ is the disturbance at time $k.$ Each \n",
    "$w_k$is distributed according to an arbitrary probability distribution. The \n",
    "only assumption is that for different time steps $k_1$ and $k_2$, $w_{k_1}$ \n",
    "and $w_{k_2}$are independent random variables.\n",
    "\n",
    "The optimal policy is the same as in the case where the disturbances are identically \n",
    "zero for every time step, i.e., \n",
    "\n",
    "$$u_k=K_kx_k$$\n",
    "\n",
    "where\n",
    "\n",
    "$$K_k = -(R+B^T P_{k+1}B)^{-1}B^TP_{k+1}A$$\n",
    "\n",
    "and the $P_k$s are obtained by iterating, for $k\\in \\{h-1,h-2,\\dots,0\\}$,\n",
    "\n",
    "$$P_k = A^TP_{k+1}A + Q - A^TP_{k+1}B(R+B^TP_{k+1}B)^{-1}B^TP_{k+1}A$$\n",
    "\n",
    "with boundary condition $P_h = Q_h$. Interestingly we can compute the theoretical \n",
    "cost\n",
    "\n",
    "$$J_{0}\\left(x_{0}\\right)=x_{0}^{\\top} P_{0} x_{0}+\\sum_{k=0}^{h-1} \\text{trace}\\left(P_{k+1} \n",
    "\\mathbb{E}\\left[w_{k} w_{k}^{\\top}\\right]\\right)$$\n",
    "\n",
    "The following example uses a double integrator model to compare the theoretical \n",
    "cost and the cost obtained with monte-carlo simulations. For the double integrator \n",
    "example, the state $x_k$ comprises position $y_k$ and velocity $v_k$, i.e., \n",
    "$x_k= [y_k \\ \\ v_k]^T$, and the control input $u_k$ is force. After discretizing \n",
    "the equation $\\ddot{y}=u$ at a sampling period $\\tau$ (zero order hold discretization) \n",
    "we obtain\n",
    "\n",
    "$$A=e^{\\left[ \\matrix{ 0     & \\tau \\cr    0& 0 } \\right]}={\\left[ \\matrix{ \n",
    "1    & \\tau \\cr    0& 1 } \\right]}$$  $$B = \\int_0^\\tau e^{As}ds\\left[\\matrix{0 \n",
    "\\cr 1} \\right] = \\left[\\matrix{\\frac{\\tau^2}{2} \\cr \\tau} \\right].$$\n",
    "\n",
    "A disturbance with zero mean and following a uniform distribution is applied \n",
    "at time $k=11$. However, the probability distribution of the disturbances and \n",
    "the times at which the disturbances are applied to the system can be modified.\n"
   ]
  },
  {
   "cell_type": "code",
   "execution_count": null,
   "metadata": {},
   "outputs": [],
   "source": [
    "import numpy as np\n",
    "from scipy import signal\n",
    "import scipy.linalg\n",
    "import matplotlib.pyplot as plt"
   ]
  },
  {
   "cell_type": "code",
   "execution_count": null,
   "metadata": {},
   "outputs": [],
   "source": [
    "#system parameters and discretization\n",
    "Ac = np.array([[0, 1],[0, 0]])\n",
    "Bc = np.array([[0],[1]])\n",
    "tau = 0.2\n",
    "A, B, C = signal.cont2discrete((Ac, Bc, np.zeros((1, 2)), np.array(0.2)), tau)[:3]\n",
    "Q = np.array([[1, 0], [0, 1]])\n",
    "S = np.array([[0],[0]])\n",
    "R = 1\n",
    "QT = np.array([[1, 0],[0, 1]])\n",
    "h = 100\n",
    "P = [np.zeros((2,2)) for idx in range(h+1)]\n",
    "P[-1] = QT\n",
    "K = [np.zeros((1,2)) for idx in range(h)]\n",
    "\n",
    "\n",
    "#Riccati equations\n",
    "for k in range(h-1,-1,-1):\n",
    "    P[k] = A.T@P[k+1]@A + Q - (S+A.T@P[k+1]@B)*np.linalg.pinv(R+B.T@P[k+1]@B)@(S.T+B.T@P[k+1]@A)\n",
    "    K[k] = -np.linalg.pinv(R+B.T@P[k+1]@B)@(S.T+B.T@P[k+1]@A)\n",
    "\n",
    "\n",
    "#simulate system with disturbances at time k=11\n",
    "x0 = np.array([[1],[0]])\n",
    "t = tau*np.arange(0,h+1)\n",
    "n = 2\n",
    "x = np.zeros((n,h+1))\n",
    "x[:,[0]] = x0\n",
    "u = np.zeros((1,h))\n",
    "np.random.seed(1)\n",
    "cost_ = np.zeros(5000)\n",
    "a = np.zeros(5000)\n",
    "for imc in range(5000):\n",
    "    cost_[imc] = 0\n",
    "    for k in range(h):\n",
    "        u[:,[k]] = K[k]@x[:,[k]]\n",
    "        a[imc] = np.random.random_sample()-0.5\n",
    "        if k == 10:\n",
    "            x[:,[k+1]] = A@x[:,[k]]+B@u[:,[k]]+np.vstack((np.array(0),a[imc]))\n",
    "        else:\n",
    "            x[:,[k+1]] = A@x[:,[k]]+B@u[:,[k]]\n",
    "        cost_[imc] = cost_[imc] + x[:,[k]].T@Q@x[:,[k]] + u[:,[k]].T*R*u[:,[k]]    "
   ]
  },
  {
   "cell_type": "markdown",
   "metadata": {},
   "source": [
    "Compare experimental and theoretical cost\n",
    "\n",
    "Experimental cost"
   ]
  },
  {
   "cell_type": "code",
   "execution_count": null,
   "metadata": {},
   "outputs": [],
   "source": [
    "cost_"
   ]
  },
  {
   "cell_type": "markdown",
   "metadata": {},
   "source": [
    "Theoretical cost. The variance of an unif. r.v. in [-0.5,0.5] is 1/12"
   ]
  },
  {
   "cell_type": "code",
   "execution_count": null,
   "metadata": {},
   "outputs": [],
   "source": [
    "x0.T @ P[0] @ x0 + np.trace(P[11] @ np.array([[0, 0], [0, 1/12]]))"
   ]
  },
  {
   "cell_type": "code",
   "execution_count": null,
   "metadata": {},
   "outputs": [],
   "source": [
    "td = np.arange(0,h+1)*tau\n",
    "\n",
    "# plots\n",
    "f = plt.figure()\n",
    "ax = plt.gca()\n",
    "ax.plot(td, x[0])\n",
    "ax.grid(True)\n",
    "ax.set_xlabel('t');"
   ]
  },
  {
   "cell_type": "code",
   "execution_count": null,
   "metadata": {},
   "outputs": [],
   "source": [
    "f = plt.figure()\n",
    "ax = plt.gca()\n",
    "ax.plot(td, x[1])\n",
    "ax.grid(True)\n",
    "ax.set_xlabel('t');"
   ]
  },
  {
   "cell_type": "code",
   "execution_count": null,
   "metadata": {},
   "outputs": [],
   "source": [
    "f = plt.figure()\n",
    "ax = plt.gca()\n",
    "ax.plot(td[:-1],u[0])\n",
    "ax.grid(True)\n",
    "ax.set_xlabel('t');"
   ]
  },
  {
   "cell_type": "code",
   "execution_count": null,
   "metadata": {},
   "outputs": [],
   "source": [
    "f, ax = plt.subplots(1,3)\n",
    "ax[0].plot(td, x[0])\n",
    "ax[0].set_xlabel('t');\n",
    "ax[0].set_ylabel('y(t)');\n",
    "ax[0].grid(True)\n",
    "ax[0].set_xlim(0, h*tau)\n",
    "ax[0].set_ylim(-2, 1)\n",
    "ax[1].plot(td, x[1])\n",
    "ax[1].set_xlabel('t');\n",
    "ax[1].set_ylabel('v(t)');\n",
    "ax[1].grid(True)\n",
    "ax[2].plot(td[:-1], u[0])\n",
    "ax[2].set_xlabel('t');\n",
    "ax[2].set_ylabel('u(t)');\n",
    "ax[2].grid(True)"
   ]
  },
  {
   "cell_type": "code",
   "execution_count": null,
   "metadata": {},
   "outputs": [],
   "source": []
  }
 ],
 "metadata": {
  "kernelspec": {
   "display_name": "Python 3",
   "language": "python",
   "name": "python3"
  },
  "language_info": {
   "codemirror_mode": {
    "name": "ipython",
    "version": 3
   },
   "file_extension": ".py",
   "mimetype": "text/x-python",
   "name": "python",
   "nbconvert_exporter": "python",
   "pygments_lexer": "ipython3",
   "version": "3.7.9"
  }
 },
 "nbformat": 4,
 "nbformat_minor": 4
}
