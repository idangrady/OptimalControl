{
 "cells": [
  {
   "cell_type": "markdown",
   "metadata": {},
   "source": [
    "# Temperature Control with stochastic dynamic programming\n",
    "\n",
    "\n",
    "A thermostat is a component of several devices (e.g. air conditioners, building \n",
    "heating, etc) that regulates the temperature of a given system. It exerts control \n",
    "by switching heating or cooling devices on or off, when the difference between \n",
    "a desired constant temperature and the current temperature is large. Therefore, \n",
    "as opposed to most control systems, where the actuation is applied at every \n",
    "time step, the control input is applied at a reduced number of times steps. \n",
    "This reduces the risk of equipment damage. Inspired by the thermostat the goal \n",
    "of this exercise is to establish that the optimal policy for a simple model \n",
    "of temperature control taking into account that control actions are expensive \n",
    "is to switch on the heating/cooling when the difference between the actual temperature \n",
    "and a constant reference exceeds a threshold. \n",
    "\n",
    "Consider the following model for the evolution of the temperature $T_k$ at \n",
    "time $k \\in  \\{0, 1,...., h\\}$, quantized with a step $\\epsilon$,\n",
    "\n",
    "$$T_{k+1}=T_{k}+U_{k}+w_{k}$$\n",
    "\n",
    "where $U_k$ is the temperature control input and wk are independent and identically \n",
    "distributed random variables. Let $\\delta_{k}:=T_{k}-T_{\\mathrm{des}}$ denote \n",
    "the offset with respect to a desired constant temperature $T_{des}$, and suppose \n",
    "that when the temperature control input is applied it sets the temperature to \n",
    "the desired one $U_{k}=T_{\\mathrm{des}}=T_{k}$. Then we can write\n",
    "\n",
    "$$\\delta_{k+1}=\\left\\{\\begin{array}{l}{\\delta_{k}+w_{k} \\text { if } u_{k}=0} \n",
    "\\\\ {w_{k} \\text { if } u_{k}=1}\\end{array}\\right.$$\n",
    "\n",
    "where $u_k = 1$ if the temperature control input is applied and $u_k = 0$ \n",
    "otherwise; note that $u_k$ can then be seen as new control input. Assume that \n",
    "initially, $T_0=T_{des}$ which implies that $\\delta _0 = 0$. We will consider \n",
    "a quantized model for $\\delta _k$ by considering that the disturbances live \n",
    "in a finite set with $n_r = 2n_w + 1$ elements, where $n_w$ is a positive integer, \n",
    "and are characterized by\n",
    "\n",
    "$$\\text{Prob}\\left[w_{k}=\\epsilon \\bar{w}_{i}\\right]=r_{i}$$\n",
    "\n",
    "with $\\bar{w}_{i}=-n_{w}+i-1$ for $i \\in\\left\\{1, \\ldots, n_{r}\\right\\}$and \n",
    "$\\sum_{i=1}^{n_{r}} r_{i}=1$. Then $\\delta_{k} \\in \\Delta_{k}:=\\left\\{-\\epsilon \n",
    "k n_{w}, \\dots, \\epsilon\\left(k n_{w}-\\right.\\right. \\left.1), \\epsilon k n_{w}\\right\\}$. \n",
    "Consider the following cost\n",
    "\n",
    "$$G(h):=\\left(\\sum_{k=0}^{h-1}\\left|\\delta_{k}\\right|+\\lambda u_{k}\\right)+\\left|\\delta_{h}\\right|$$\n",
    "\n",
    "where $\\left|\\delta_{k}\\right|$ penalizes temperature deviations and $\\lambda \n",
    "u_{k}$ term penalizes the number of temperature control inputs needed to control \n",
    "the system in the horizon $h$, where $\\lambda$ is a positive tunning knob expressing \n",
    "the trade-off between the two costs. It can be proven that if $r_{n w+1+i}=r_{n \n",
    "w+1-i}$ for every $i \\in\\left\\{1, \\ldots, n_{w}\\right\\}$, then there exists \n",
    "an $L \\in \\Delta:=\\{\\epsilon k | k \\in \\mathbb{Z}\\}$, such that\n",
    "\n",
    "$$u_{k}=\\left\\{\\begin{array}{l}{1 \\text { if }\\left|\\delta_{k}\\right| \\geq \n",
    "L} \\\\ {0 \\text { otherwise }}\\end{array}\\right.$$\n",
    "\n",
    "is the optimal policy that minimizes the average cost $\\lim _{h \\rightarrow \n",
    "\\infty} \\frac{G(h)}{h}$ . \n",
    "\n",
    "Functions `thermostatcontrol` and `asymptoticthermostatcontrol` below compute \n",
    "the optimal finite horizon and average cost policy, respectively. You can use \n",
    "the following script to test them."
   ]
  },
  {
   "cell_type": "code",
   "execution_count": null,
   "metadata": {},
   "outputs": [],
   "source": [
    "import numpy as np"
   ]
  },
  {
   "cell_type": "markdown",
   "metadata": {},
   "source": [
    "The function `asymptoticthermostatcontrol` provides the threshold of the optimal policy. The inputs are the same as in `thermostatcontrol` and the output is Lint, which is an integer such that the optimal threshold is $L =\\,\\,  \\epsilon \\text{Lint}$. The rational behind his function is to compute the asymptotic probability distribution of the underlyling Markov process once the policy is fixed, i.e. for each . This can be done by computing the transition matrix of this Markov process, \n",
    "denoted by $P$ and retrieving the right eigenvector associated with the unitary eigenvalue. The average cost is then an expected value of the running cost over this distribution. "
   ]
  },
  {
   "cell_type": "code",
   "execution_count": null,
   "metadata": {},
   "outputs": [],
   "source": [
    "def asymptoticthermostatcontrol(r, lmbda):\n",
    "    \n",
    "    # Initialize variables\n",
    "    \n",
    "    nr = int(len(r))\n",
    "    nw = int((nr - 1) / 2)\n",
    "    \n",
    "    # cost of a given L_1\n",
    "    L_1 = 0\n",
    "    check = 0\n",
    "    cost = np.array([])\n",
    "\n",
    "    while check == 0:\n",
    "        # matrix P  -----------------------------------------------------------\n",
    "        A1 = np.zeros([2 * (nw + L_1) + 1, nw])\n",
    "        A1[nw + L_1 + 1 - nw - 1:nw + L_1 + 1 + nw, 1 - 1:nw] = np.matmul(np.vstack(r),\n",
    "                                                                          np.ones([1, nw])) \n",
    "        A2 = np.zeros([2 * (nw + L_1) + 1, 2 * L_1 + 1]);\n",
    "\n",
    "        for x in range(0, 2 * L_1 + 1):\n",
    "            A2[1 + x - 1:nr + x, x] = r \n",
    "\n",
    "        P = np.hstack([A1, A2, A1])\n",
    "\n",
    "        cvec = np.zeros([2 * (nw + L_1) + 1, 1])\n",
    "        cvec[L_1 + nw + 1 - 1] = 0\n",
    "        cvec[1 - 1:L_1 + nw] = np.vstack(np.arange((L_1 + nw), 1 - 1, -1))\n",
    "        cvec[L_1 + nw + 2 - 1:] = np.vstack(np.arange(1, L_1 + nw + 1, 1))\n",
    "        cvec[1 - 1:nw] = cvec[1 - 1:nw] + lmbda\n",
    "        cvec[-nw + 1 - 1:] = cvec[-nw + 1 - 1:] + lmbda  \n",
    "        # ---------------------------------------------------------------------\n",
    "        [val, vec] = np.linalg.eig(P)\n",
    "        ind = np.argmin(np.abs(1 - val), axis=None)\n",
    "        pss = vec[:, ind]\n",
    "\n",
    "        cost = np.append(cost, np.matmul(pss / sum(pss), np.vstack(cvec)))\n",
    "\n",
    "        if L_1 > 0:\n",
    "            if cost[L_1 + 1 - 1] > cost[L_1 - 1]:\n",
    "                L = L_1 # if the next L leads to larger cost choose previous\n",
    "                break\n",
    "        L_1 = L_1 + 1\n",
    "\n",
    "    return L "
   ]
  },
  {
   "cell_type": "markdown",
   "metadata": {},
   "source": [
    "The matlab function `thermostatcontrol`, implements the finite horizon problem \n",
    "and computes the optimal policy and costs to go, is deployed below, for a set \n",
    "of probabilities r, a penalizing coefficient lambda and a horizon of h stages. \n",
    "The array J contains the costs-to-go, and u is the optimal action array. \n",
    "\n",
    "The number of stages h and the penalizing coefficient $\\lambda$ can be tuned \n",
    "to different values, depending on the problem setup. "
   ]
  },
  {
   "cell_type": "code",
   "execution_count": null,
   "metadata": {},
   "outputs": [],
   "source": [
    "def thermostatcontrol(r, lmbda, h):\n",
    "    # initialize variables \n",
    "    nr = int(len(r))\n",
    "    nw = int((nr - 1) / 2)\n",
    "    pos0 = np.zeros([1, h + 1])\n",
    "    pos0[:, h] = np.array([nw * h+1])\n",
    "    c = np.concatenate((np.arange(nw * h, 1 - 1, -1), np.arange(0, nw * h + 1, 1)), axis=None)\n",
    "\n",
    "    J = [[] for _ in range(h + 1)] \n",
    "\n",
    "\n",
    "    for x in range(0, 2 * nw * h + 1):\n",
    "        J[h] = np.append(J[h], c[x])  # terminal cost\n",
    "\n",
    "    u = [[] for _ in range(h)]  \n",
    "    check = [[] for _ in range(h)]\n",
    "    \n",
    "    # run DP\n",
    "    for k in range(h - 1, -1, -1):\n",
    "        pos0[:, k] = nw * k + 1\n",
    "        for m in range(0, 2 * k * nw+1):\n",
    "\n",
    "            c1 = lmbda + c[int((m+1 - pos0[:, k] + pos0[:, h])-1)]\n",
    "            c0 = c[int(((m+1 - pos0[:, k]) + pos0[:, h])-1)]\n",
    "            for ell in range(0, nr):\n",
    "                c1 = c1 + r[ell] * J[k + 1][int((pos0[:, k + 1] + ell+1 - nw-1)-1)]\n",
    "                c0 = c0 + r[ell] * J[k + 1][int((pos0[:, k + 1] + (m + 1 - pos0[:, k]) + ell+1 - nw-1)-1)]\n",
    "            J[k] = np.append(J[k], np.amin([c0, c1]))\n",
    "            u_ = np.argmin([c0, c1])\n",
    "            if np.abs(c0 - c1) < 1e-8:\n",
    "                u[k] = np.append(u[k], 0)\n",
    "            else:\n",
    "                if u_ == 0:\n",
    "                    u[k] = np.append(u[k], 0)\n",
    "                else:\n",
    "                    u[k]= np.append(u[k], 1)\n",
    "    return u, J"
   ]
  },
  {
   "cell_type": "code",
   "execution_count": null,
   "metadata": {},
   "outputs": [],
   "source": [
    "r = np.array([0.1,0.2,0.4,0.2,0.1])\n",
    "h = 100\n",
    "lmbda = 10"
   ]
  },
  {
   "cell_type": "code",
   "execution_count": null,
   "metadata": {},
   "outputs": [],
   "source": [
    "Lint = asymptoticthermostatcontrol(r,lmbda)"
   ]
  },
  {
   "cell_type": "code",
   "execution_count": null,
   "metadata": {},
   "outputs": [],
   "source": [
    "[u, J] = thermostatcontrol(r, lmbda, h)"
   ]
  },
  {
   "cell_type": "code",
   "execution_count": null,
   "metadata": {},
   "outputs": [],
   "source": [
    "u"
   ]
  },
  {
   "cell_type": "code",
   "execution_count": null,
   "metadata": {},
   "outputs": [],
   "source": [
    "J"
   ]
  },
  {
   "cell_type": "code",
   "execution_count": null,
   "metadata": {},
   "outputs": [],
   "source": [
    "Lint"
   ]
  }
 ],
 "metadata": {
  "kernelspec": {
   "display_name": "Python 3",
   "language": "python",
   "name": "python3"
  },
  "language_info": {
   "codemirror_mode": {
    "name": "ipython",
    "version": 3
   },
   "file_extension": ".py",
   "mimetype": "text/x-python",
   "name": "python",
   "nbconvert_exporter": "python",
   "pygments_lexer": "ipython3",
   "version": "3.7.9"
  }
 },
 "nbformat": 4,
 "nbformat_minor": 4
}
