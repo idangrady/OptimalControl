{
 "cells": [
  {
   "cell_type": "markdown",
   "metadata": {},
   "source": [
    "# Linear Quadratic Control: frequency domain properties\n",
    "\n",
    "\n",
    "The Linear Quadratic Regulator is specified by an infinite-horizon quadratic \n",
    "cost function\n",
    "\n",
    "$$\\int_0^\\infty x^TQ_cx+u^TR_cu dt$$\n",
    "\n",
    "and a linear model\n",
    "\n",
    "$$ \\dot{x}=A_cx+B_cu.$$\n",
    "\n",
    "Under mild assumptions, the optimal policy is\n",
    "\n",
    "$$u(t) = K_cx(t),$$ \n",
    "\n",
    "where\n",
    "\n",
    "$$K_c = -R_c^{-1}B^TP_c$$\n",
    "\n",
    "and $P_c$ is the unique positive definite solution to\n",
    "\n",
    "$$0 = A_c^TP_c+P_cA_c + Q_c - P_cB_cR_c^{-1}B_c^TP_c$$\n",
    "\n",
    "The goal of this live script is to illustrate the following frequency domain \n",
    "properties:\n",
    "\n",
    "* the complementary sensitivity transfer function, defined as $\\frac{-K(sI-A)^{-1}B}{1-K(sI-A)^{-1}B}$ \n",
    "has a -20db/dec roll-off as $\\omega \\rightarrow \\infty$and $s = j\\omega$. \n",
    "* The Nyquist plot does not enter the unit circle around (-1,0) in the complex plane.\n",
    "* The absolute value of the complementary sensitivity is below 6bd\n",
    "* The absolute value of the sensitivity is below 0 db\n",
    "\n",
    "All these properties are checked for a given transfer function (which can \n",
    "be modified) next."
   ]
  },
  {
   "cell_type": "code",
   "execution_count": null,
   "metadata": {},
   "outputs": [],
   "source": [
    "import numpy as np\n",
    "import matplotlib.pyplot as plt\n",
    "import control\n",
    "control.use_numpy_matrix(False)\n",
    "%matplotlib ipympl"
   ]
  },
  {
   "cell_type": "code",
   "execution_count": null,
   "metadata": {},
   "outputs": [],
   "source": [
    "# define a transfer function and state space model\n",
    "tf1 = control.tf(np.array([1]),np.array([1, 1]))*control.tf(np.array([1]),np.array([1, 2]))*control.tf(np.array([1]),np.array([1, 3]))\n",
    "sys = control.tf2ss(tf1.num,tf1.den)\n",
    "A = sys.A\n",
    "B = sys.B\n",
    "C = sys.C\n",
    "D = sys.D\n",
    "# define Q and R matrices\n",
    "Q = C.T@C\n",
    "R = 0.0001\n",
    "W = np.arange(0,1e3,0.01)\n",
    "# compute optimal gains\n",
    "K,S,E = control.lqr(A,B,Q,R)\n",
    "K = -K\n",
    "# define transfer function K(sI-A)^{-1}B\n",
    "tf = control.ss2tf(A,B,-K,0)\n",
    "num = tf.num[0][0]\n",
    "den = tf.den[0][0]\n",
    "tflqr = control.tf(tf.num,tf.den)"
   ]
  },
  {
   "cell_type": "code",
   "execution_count": null,
   "metadata": {},
   "outputs": [],
   "source": [
    "f = plt.figure(1)\n",
    "control.bode(tflqr);"
   ]
  },
  {
   "cell_type": "code",
   "execution_count": null,
   "metadata": {},
   "outputs": [],
   "source": [
    "f = plt.figure(2)\n",
    "control.nyquist(tflqr);"
   ]
  },
  {
   "cell_type": "code",
   "execution_count": null,
   "metadata": {},
   "outputs": [],
   "source": [
    "f = plt.figure(3)\n",
    "control.bode(tflqr/(1+tflqr), W);"
   ]
  },
  {
   "cell_type": "code",
   "execution_count": null,
   "metadata": {},
   "outputs": [],
   "source": [
    "f = plt.figure(4)\n",
    "control.bode(1/(1+tflqr));"
   ]
  }
 ],
 "metadata": {
  "kernelspec": {
   "display_name": "Python 3",
   "language": "python",
   "name": "python3"
  },
  "language_info": {
   "codemirror_mode": {
    "name": "ipython",
    "version": 3
   },
   "file_extension": ".py",
   "mimetype": "text/x-python",
   "name": "python",
   "nbconvert_exporter": "python",
   "pygments_lexer": "ipython3",
   "version": "3.7.9"
  }
 },
 "nbformat": 4,
 "nbformat_minor": 4
}
