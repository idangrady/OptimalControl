{
 "cells": [
  {
   "cell_type": "markdown",
   "metadata": {},
   "source": [
    "# Loop transfer recovery\n",
    "\n",
    "\n",
    "Designing a controller with the linear quadratic regular (LQR) framework not \n",
    "only has many advantages in the time-domain but also very good properties in \n",
    "the frequency-domain. In particular the gain and phase margins are extremly \n",
    "large, $(\\frac{1}{2},\\infty)$ and $(-\\frac{\\pi}{3},\\frac{\\pi}{3})$, respectively.\n",
    "\n",
    "However, as a famous paper by John Doyle (Guaranteed Margins for LQG control, \n",
    "IEEE Automatic Control,1978, n.4, 23) showed the margins for a general LQG design, \n",
    "i.e., when only partial state information is available for feedback, can be \n",
    "arbitrarily poor.\n",
    "\n",
    "It is important, however, to note that such an example considers arbitrarily \n",
    "chosen values for the parameters defining the LQG problem, i.e., the covariance \n",
    "matrices of the gaussian noise and state disturbances and the cost function \n",
    "matrices weighting the state and the input. We can actually choose such matrices \n",
    "in such a way that we recover the guaranteed phase and gain margins of the LQR \n",
    "even even only partial information is available (LQG problem).\n",
    "\n",
    "This live script illustrates this by considering the original example provided \n",
    "in the paper by John Doyle, showing these arbitrarily poor gain and phase margins, \n",
    "and then using for the same example the LTR method, showing that the margins \n",
    "can be made very large.\n",
    "\n",
    "To see these fact, run the following script with\n",
    "```\n",
    "optphasemargins = 1\n",
    "```\n",
    "(Doyle's example) and with\n",
    "```\n",
    "optphasemargins = 2\n",
    "```\n",
    "(LTR parameters)."
   ]
  },
  {
   "cell_type": "code",
   "execution_count": null,
   "metadata": {},
   "outputs": [],
   "source": [
    "import numpy as np\n",
    "import control\n",
    "control.use_numpy_matrix(False)\n",
    "from course_functions import kalman"
   ]
  },
  {
   "cell_type": "code",
   "execution_count": null,
   "metadata": {},
   "outputs": [],
   "source": [
    "optphasemargins = 1 #1- poor (Doyle), 2-good(LTR)\n",
    "\n",
    "A = np.array([[1, 1],[0, 1]])\n",
    "B = np.array([[0],[1]])\n",
    "C = np.array([1, 0])\n",
    "n = 2\n",
    "W = np.ones((2,2))\n",
    "V = 1\n",
    "\n",
    "if optphasemargins == 1:\n",
    "    Q = 1*np.array([1, 1]).reshape(2,1)@np.array([1, 1]).reshape(1,2)\n",
    "    R = 0.001\n",
    "else:\n",
    "    Q = C.T@C\n",
    "    R = 1e-10\n",
    "\n",
    "# obtain controller and observer gains of the optimal lqg compensator\n",
    "K,S,E = control.lqr(A,B,Q,np.array(R))\n",
    "K = -K\n",
    "L, Theta = kalman(A,np.eye(n),C,W,V)[:2]\n",
    "# transfer function of the lqg controller\n",
    "tflqg = control.ss2tf( A+B@K-L*C ,L,-K,0)\n",
    "numLQG = tflqg.num[0]\n",
    "denLQG = tflqg.den[0]\n",
    "# transfer function of the plant\n",
    "tfplant = control.ss2tf( A , B , C ,0)\n",
    "numplant = tfplant.num[0]\n",
    "denplant = tfplant.den[0]\n",
    "\n",
    "# nyquist plot taking into accoun open loop transfer function tfplant*tflqg\n",
    "control.nyquist(tfplant*tflqg, arrowhead_length=0.05, arrowhead_width=0.05);"
   ]
  },
  {
   "cell_type": "code",
   "execution_count": null,
   "metadata": {},
   "outputs": [],
   "source": []
  }
 ],
 "metadata": {
  "kernelspec": {
   "display_name": "Python 3",
   "language": "python",
   "name": "python3"
  },
  "language_info": {
   "codemirror_mode": {
    "name": "ipython",
    "version": 3
   },
   "file_extension": ".py",
   "mimetype": "text/x-python",
   "name": "python",
   "nbconvert_exporter": "python",
   "pygments_lexer": "ipython3",
   "version": "3.7.9"
  }
 },
 "nbformat": 4,
 "nbformat_minor": 4
}
