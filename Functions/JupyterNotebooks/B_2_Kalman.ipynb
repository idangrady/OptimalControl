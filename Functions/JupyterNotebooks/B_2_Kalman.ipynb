{
 "cells": [
  {
   "cell_type": "markdown",
   "metadata": {},
   "source": [
    "# Kalman filter\n",
    "In this live script, we iterate the equations of the Kalman filter, for a \n",
    "given example. We do so for a large number of iterations, so that the Kalman \n",
    "filter gains converge to a stationary solution, and compare the solution to \n",
    "the one obtained with the function `kalman`.\n",
    "\n",
    "Let us start by recalling the Kalman filter. Consider a linear process\n",
    "\n",
    "$$x_{k+1}=A x_{k}+B u_{k}+w_{k}$$\n",
    "\n",
    "$$y_{k} =C x_{k}+n_{k} $$\n",
    "\n",
    "where\n",
    "\n",
    "$x_{0}\\sim \\mathcal{N}\\left(\\bar{x}_{0},\\bar{\\Phi}_{0}\\right)$,$w_{k}\\sim \\mathcal{N}(0, W)$,$n_{k} \\sim \\mathcal{N}(0, V)$.\n",
    "Consider also the information set\n",
    "\n",
    "$I_{k}  {=\\left(y_{0}, y_{1}, \\ldots, y_{k}, u_{0}, u_{1}, \\ldots, u_{k-1}\\right)} \n",
    "$, $ {k \\geq 0}$.\n",
    "\n",
    "Then \n",
    "\n",
    "$$P_{x_{k}} | I_{k} \\sim \\mathcal{N}\\left(\\hat{x}_{k | k}, \\Phi_{k | k}\\right)$$\n",
    "\n",
    "where\n",
    "\n",
    "$$\\hat{x}_{k | k} =\\hat{x}_{k | k-1}+L_{k}\\left(y_{k}-C \\hat{x}_{k | k-1}\\right)$$\n",
    "\n",
    "$$\\hat{x}_{k +1| k} =A\\hat{x}_{k | k}+Bu_k$$\n",
    "\n",
    "$$\\Phi_{k | k} =\\Phi_{k | k-1}-\\Phi_{k | k-1} C^{\\top}\\left(C \\Phi_{k | k-1} C^{\\top}+V\\right)^{-1} C \\Phi_{k | k-1}$$\n",
    "\n",
    "$$ \\Phi_{k+1 | k} =A \\Phi_{k | k} A^{\\top}+W $$\n",
    "\n",
    "$$L_{k}=\\Phi_{k | k-1} C^{\\top}\\left(C \\Phi_{k | k-1} C^{\\top}+V\\right)^{-1}$$\n",
    "\n",
    "with initial condition $\\hat{x}_{0|-1}=\\bar{x}_0$ , $\\Phi_{0|-1}=\\bar{\\Phi}_0$.\n",
    "\n",
    "As $k\\rightarrow \\infty$, $\\Phi_{k+1|k}\\rightarrow \\bar{\\Phi}$, $L_k\\rightarrow\\bar{L}$, \n",
    "where $\\bar{\\Phi}$ satisfies\n",
    "\n",
    "$$\\bar{\\Phi}=A \\bar{\\Phi} A^{\\top} -A \\bar{\\Phi} C^{\\top} \\left(C \\bar{\\Phi} C^{\\top}+V\\right)^{-1} C \\bar{\\Phi} A^{\\top}+W$$\n",
    "\n",
    "and $\\bar{L}$ is given by\n",
    "\n",
    "$${\\bar{L}=\\bar{\\Phi} C^{\\top}\\left(C \\bar{\\Phi} C^{\\top}+V\\right)^{-1}}$$\n",
    "\n",
    "The following example iterates these Kalman filter equations for the model\n",
    "\n",
    "$$\\dot{x}(t)=\\underbrace{\\left[\\begin{array}{cc}{0} & {1} \\\\ \n",
    "{-w_{n}^{2}} & {0}\\end{array}\\right]}_{A_{c}} x(t)$$\n",
    "\n",
    "which, after discretization with sampling period $\\tau = 0.1$, leads to\n",
    "\n",
    "$$x_{k+1}=\\underbrace{\\left[\\begin{array}{cc}{0.8090} & {0.0935} \\\\ {-3.6932} & {0.8090}\\end{array}\\right]}_{A=e^{A_{c} \\tau}} x_{k}+\\underbrace{\\left[\\begin{array}{c}{0} \\\\ {\\sigma_{w}}\\end{array}\\right] d_{k}}_{w_{k}}$$\n",
    "\n",
    "where additive disturbances have been considered in discrete time and $d_k$ \n",
    "is a Gaussian disturbance for every $k$. The considered output  is\n",
    "\n",
    "$$y_{k}=\\underbrace{\\left[\\begin{array}{ll}{1} & {0}\\end{array}\\right]}_{C} \n",
    "x_{k}+\\underbrace{\\sigma_{n} v_{k}}_{n_{k}}$$\n",
    "\n",
    "Besides comparing the stationary solution obtained by iterating the Kalman \n",
    "filter equations and the solution obtained with Kalman.m, this script also plots \n",
    "some initial estimates $\\hat{x}_{k|k-1}$ and $\\hat{x}_{k|k}$ and the elipsoids\n",
    "\n",
    "$$\\begin{array}{l}{\\left\\{\\frac{1}{4} \\sqrt{\\Phi_{k | k-1}} x |\\|x\\|=1\\right\\}} \\\\\n",
    "{\\left\\{\\frac{1}{4} \\sqrt{\\Phi_{k | k}} x |\\|x\\|=1\\right\\}}\\end{array}$$\n",
    "\n",
    "for $k=0$.\n"
   ]
  },
  {
   "cell_type": "code",
   "execution_count": null,
   "metadata": {},
   "outputs": [],
   "source": [
    "import numpy as np\n",
    "from scipy import signal\n",
    "import scipy.linalg\n",
    "import matplotlib.pyplot as plt\n",
    "from course_functions import kalman"
   ]
  },
  {
   "cell_type": "code",
   "execution_count": null,
   "metadata": {},
   "outputs": [],
   "source": [
    "def kalmangains(A,C,Theta0,W,V,kend):\n",
    "    A = np.atleast_2d(A)\n",
    "    C = np.atleast_2d(C)    \n",
    "    L = [np.zeros((2,1)) for id in range(kend)]\n",
    "    Theta = [np.eye(2) for id in range(kend)]\n",
    "    Theta_1 = [np.eye(2) for id in range(kend+1)]\n",
    "    Theta_1[0] = Theta0\n",
    "    for k in range(kend):\n",
    "        L[k] = Theta_1[k]@C.T@np.linalg.inv(C@Theta_1[k]@C.T+V)\n",
    "        Theta[k] = Theta_1[k] - Theta_1[k]@C.T@np.linalg.inv( C@Theta_1[k]@C.T +V )@C@Theta_1[k]\n",
    "        Theta_1[k+1] = A@Theta[k]@A.T + W\n",
    "    \n",
    "    return L, Theta, Theta_1"
   ]
  },
  {
   "cell_type": "code",
   "execution_count": null,
   "metadata": {},
   "outputs": [],
   "source": [
    "np.random.seed(1)\n",
    "\n",
    "# system definition\n",
    "ts = 100\n",
    "ks = (2*np.pi)**2\n",
    "cf = 0\n",
    "Ac = np.array([[0, 1],[-ks, -cf]])\n",
    "n = 2\n",
    "Bc = np.array([[0], [1]])\n",
    "Cc = np.array([1, 0])\n",
    "Dc = 0\n",
    "\n",
    "#discretization\n",
    "tau = 0.1\n",
    "Ad, Bd, Cd, Dd = signal.cont2discrete((Ac, Bc, Cc, Dc), tau)[:4]\n",
    "\n",
    "#Kalman filter - obtain the time-varying gains\n",
    "sigmaw = 0.5\n",
    "sigman = 0.1\n",
    "Theta0 = np.eye(2)\n",
    "Theta_1 = [np.eye(2) for idx in range(1002)]\n",
    "Theta_1[0] = Theta0\n",
    "W = np.diag(np.array([0, sigmaw**2]))\n",
    "V = sigman**2\n",
    "kend = int(ts/tau+1)\n",
    "L, Theta, Theta_1 = kalmangains(Ad,Cd,Theta0,W,V,kend)"
   ]
  },
  {
   "cell_type": "code",
   "execution_count": null,
   "metadata": {},
   "outputs": [],
   "source": [
    "#simulation\n",
    "x0 = np.array([[1],[0]])\n",
    "x = np.zeros((2,1002))\n",
    "x[:,[0]] = x0\n",
    "xhat_1 = np.zeros((2,1002))\n",
    "xhat_1[:,[0]] = np.array([[1.3], [0]])\n",
    "y = np.zeros((1,1001))\n",
    "xhat = np.zeros((2,1001))\n",
    "for k in range(kend):\n",
    "    y[:,[k]] = Cd@x[:,[k]]+sigman*np.random.randn()\n",
    "    xhat[:,[k]] = xhat_1[:,[k]] + L[k]@(y[:,[k]]-Cd@xhat_1[:,[k]])\n",
    "    xhat_1[:,[k+1]] = Ad@xhat[:,[k]]\n",
    "    x[:,[k+1]] = Ad@x[:,[k]] + np.array([[0],[sigmaw*np.random.randn()]])\n",
    "\n",
    "KF = 11\n",
    "f = plt.figure()\n",
    "ax = plt.gca()\n",
    "ax.plot(x[0,0:KF-1],x[1,0:KF-1],'o')\n",
    "ax.plot(xhat[0,0:KF-1],xhat[1,0:KF-1],'rx')\n",
    "ax.plot(xhat_1[0,0:KF-1],xhat_1[1,0:KF-1],'g+')\n",
    "ax.axis('equal')\n",
    "ax.grid(True)"
   ]
  },
  {
   "cell_type": "code",
   "execution_count": null,
   "metadata": {},
   "outputs": [],
   "source": [
    "#plot ellipsoid 1\n",
    "f = plt.figure()\n",
    "ax = plt.gca()\n",
    "c = xhat_1[:,[0]]\n",
    "MM = scipy.linalg.sqrtm(Theta_1[0])/4\n",
    "thetas = np.arange(0,2*np.pi,0.01)\n",
    "ps = np.vstack((np.cos(thetas),np.sin(thetas)))\n",
    "for ind in range(len(thetas)):\n",
    "    pi_ = c +MM@ps[:,[ind]]\n",
    "    ax.plot(pi_[0],pi_[1],'g.')\n",
    "    \n",
    "ax.axis('equal')\n",
    "ax.grid(True)\n",
    "\n",
    "#plot ellipsoid 2\n",
    "c = xhat[:,[0]]\n",
    "MM = scipy.linalg.sqrtm(Theta[0])/4\n",
    "thetas = np.arange(0,2*np.pi,0.01)\n",
    "ps = np.vstack((np.cos(thetas),np.sin(thetas)))\n",
    "for ind in range(len(thetas)):\n",
    "    pi_ = c + MM@ps[:,[ind]]\n",
    "    ax.plot(pi_[0],pi_[1],'r.')"
   ]
  },
  {
   "cell_type": "code",
   "execution_count": null,
   "metadata": {},
   "outputs": [],
   "source": [
    "# infinite horizon\n",
    "G = np.eye(n)\n",
    "a,Thetainf,c,Linf = kalman(Ad, G, Cd, W, V, continuous=False)  "
   ]
  },
  {
   "cell_type": "markdown",
   "metadata": {},
   "source": [
    "Stationary solution Ric. eq. and stationary filter gains"
   ]
  },
  {
   "cell_type": "code",
   "execution_count": null,
   "metadata": {},
   "outputs": [],
   "source": [
    "Thetainf"
   ]
  },
  {
   "cell_type": "code",
   "execution_count": null,
   "metadata": {},
   "outputs": [],
   "source": [
    "Linf"
   ]
  },
  {
   "cell_type": "markdown",
   "metadata": {},
   "source": [
    "Theta_{k|k-1}, L_k for large k"
   ]
  },
  {
   "cell_type": "code",
   "execution_count": null,
   "metadata": {},
   "outputs": [],
   "source": [
    "Theta_1[-1]"
   ]
  },
  {
   "cell_type": "code",
   "execution_count": null,
   "metadata": {},
   "outputs": [],
   "source": [
    "L[-1]"
   ]
  },
  {
   "cell_type": "code",
   "execution_count": null,
   "metadata": {},
   "outputs": [],
   "source": []
  }
 ],
 "metadata": {
  "kernelspec": {
   "display_name": "Python 3",
   "language": "python",
   "name": "python3"
  },
  "language_info": {
   "codemirror_mode": {
    "name": "ipython",
    "version": 3
   },
   "file_extension": ".py",
   "mimetype": "text/x-python",
   "name": "python",
   "nbconvert_exporter": "python",
   "pygments_lexer": "ipython3",
   "version": "3.7.9"
  }
 },
 "nbformat": 4,
 "nbformat_minor": 4
}
