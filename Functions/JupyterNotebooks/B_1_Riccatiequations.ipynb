{
 "cells": [
  {
   "cell_type": "markdown",
   "metadata": {},
   "source": [
    "#   Riccati equations\n",
    "\n",
    "\n",
    "In this live script the Riccati equations in the context of the finite horizon \n",
    "linear quadratic control framework are implemented and the horizon is increased \n",
    "so that the solution to the algebraic Riccati equation is obtained.\n",
    "\n",
    "Let us start by recalling the finite-horizon linear quadratic regulator framework. \n",
    "It is specified by a finite-horizon quadratic cost function\n",
    "\n",
    "$$\\sum_{k=0}^{h-1}x_k^{T}\\,\\,Qx_k+u_k^TRu_k+x_h^T Q_hx_h $$\n",
    "\n",
    "and a linear model\n",
    "\n",
    "$$ x_{k+1}=Ax_k+Bu_k$$\n",
    "\n",
    "where $k\\in\\{0,\\dots,h-1\\}$. \n",
    "\n",
    "The optimal policy is \n",
    "\n",
    "$$u_k=K_kx_k,$$\n",
    "\n",
    "where\n",
    "\n",
    "$$K_k = -(R+B^T P_{k+1}B)^{-1}B^TP_{k+1}A,$$\n",
    "\n",
    "and the $P_k$s are obtained by iterating, for $k\\in \\{h-1,h-2,\\dots,0\\}$,\n",
    "\n",
    "$$P_k = A^TP_{k+1}A + Q - A^TP_{k+1}B(R+B^TP_{k+1}B)^{-1}B^TP_{k+1}A,$$\n",
    "\n",
    "with boundary condition $P_h = Q_h$. As the following code illustrates, both \n",
    "the $P_k$s and $K_k$s converge as $k$ approaches $0$. This means that if $h$ \n",
    "is very large the optimal policy for $k$ small enough so that its values are \n",
    "still far from the horizon is approximately \n",
    "\n",
    "$$u_k = Kx_k$$ \n",
    "\n",
    "where\n",
    "\n",
    "$$K = -(R+B^T PB)^{-1}B^TPA$$\n",
    "\n",
    "and\n",
    "\n",
    "$$P = A^TPA + Q - A^TPB(R+B^TPB)B^TPA.$$\n",
    "\n",
    "This latter equation is the algebraic riccati equation. This equation can \n",
    "be shown to have a unique positive definite solution under mind assumption (e.g. \n",
    "if $Q$ is positive definite and if $(A,B)$ is controllable). A numerical method \n",
    "to obtain a solution to this equation is nothing more than starting with a finite \n",
    "horizon problem and letting the horizon tend to infinity, as considered here.\n",
    "\n",
    "The example considers a double integrator: the state $x_k$ comprises position \n",
    "$y_k$ and velocity $v_k$, i.e., $x_k= [y_k \\ \\ v_k]^T$, and the control input \n",
    "$u_k$ is force. After discretizing the equation $\\ddot{y}=u$ with a sampling \n",
    "period $\\tau$ (zero order hold discretization) we obtain\n",
    "\n",
    "$$A=e^{\\left[ \\matrix{ 0     & \\tau \\cr    0& 0 } \\right]}={\\left[ \\matrix{1    & \\tau \\cr    0& 1 } \\right]} , B = \\int_0^\\tau e^{As}ds\\left[\\matrix{0 \\cr 1} \\right] = \\left[\\matrix{\\frac{\\tau^2}{2} \\cr \\tau} \\right].$$"
   ]
  },
  {
   "cell_type": "code",
   "execution_count": null,
   "metadata": {},
   "outputs": [],
   "source": [
    "import numpy as np\n",
    "from scipy import signal\n",
    "import matplotlib.pyplot as plt\n",
    "from course_functions import dlqr\n",
    "%matplotlib ipympl"
   ]
  },
  {
   "cell_type": "code",
   "execution_count": null,
   "metadata": {},
   "outputs": [],
   "source": [
    "def riccatiequations(A,B,Q,R,S,Qh,h):\n",
    "    P = [ [] for i in range(h+1)]\n",
    "    K = [ [] for i in range(h+1)]\n",
    "    P[h] = Qh\n",
    "    #Riccati equations\n",
    "    for k in range(h-1,-1,-1):\n",
    "        P[k] = A.T@P[k+1]@A + Q - (S+A.T@P[k+1]@B)*np.linalg.pinv(R+B.T@P[k+1]@B)@(S.T+B.T@P[k+1]@A)\n",
    "        K[k] = -np.linalg.pinv(R+B.T@P[k+1]@B)@(S.T+B.T@P[k+1]@A)\n",
    "\n",
    "    return K,P"
   ]
  },
  {
   "cell_type": "code",
   "execution_count": null,
   "metadata": {},
   "outputs": [],
   "source": [
    "# define the system and problem matrices and discretize the process\n",
    "Ac = np.array([[0 ,1],[0, 0]])\n",
    "Bc = np.array([[0],[1]])\n",
    "tau = 0.2\n",
    "A, B, C = signal.cont2discrete((Ac, Bc, np.zeros((1,2)), np.array([0.2])), tau)[:3]\n",
    "Q = np.array([[1, 0],[0, 1]])\n",
    "S = np.array([[0],[0]])\n",
    "R = 1\n",
    "Qh = np.array([[1, 0],[0, 1]])\n",
    "h = 100\n",
    "\n",
    "#call the function that iterates the riccati equations and the dlqr function\n",
    "K,P = riccatiequations(A,B,Q,R,S,Qh,h)\n",
    "Kinf, Pinf, E = dlqr(A,B,Q,R)\n",
    "Kinf = -Kinf"
   ]
  },
  {
   "cell_type": "markdown",
   "metadata": {},
   "source": [
    "Compare with K{1}, P{1} with solution to Alg. Ric. eq.\n",
    "\n",
    "Finite horizon gains K[0] and Ric. eq. sol. P[0]"
   ]
  },
  {
   "cell_type": "code",
   "execution_count": null,
   "metadata": {},
   "outputs": [],
   "source": [
    "K[0]"
   ]
  },
  {
   "cell_type": "code",
   "execution_count": null,
   "metadata": {},
   "outputs": [],
   "source": [
    "P[0]"
   ]
  },
  {
   "cell_type": "markdown",
   "metadata": {},
   "source": [
    "Infinite horizon gains Kinf and Ric. eq. sol. Pinf"
   ]
  },
  {
   "cell_type": "code",
   "execution_count": null,
   "metadata": {},
   "outputs": [],
   "source": [
    "Kinf"
   ]
  },
  {
   "cell_type": "code",
   "execution_count": null,
   "metadata": {},
   "outputs": [],
   "source": [
    "Pinf"
   ]
  },
  {
   "cell_type": "code",
   "execution_count": null,
   "metadata": {},
   "outputs": [],
   "source": [
    "p11 = np.zeros(h+1)\n",
    "p21 = np.zeros(h+1)\n",
    "p22 = np.zeros(h+1)\n",
    "k1 = np.zeros(h)\n",
    "k2 = np.zeros(h)\n",
    "for i in range(h+1):\n",
    "    p11[i] = P[i][0,0]\n",
    "    p21[i] = P[i][0,1]\n",
    "    p22[i] = P[i][1,1]\n",
    "    if i!=h:\n",
    "        k1[i] = K[i][0,0]\n",
    "        k2[i] = K[i][0,1]\n",
    "\n",
    "\n",
    "f = plt.figure()\n",
    "ax = plt.gca()\n",
    "kk_ = np.arange(0,h+1)\n",
    "ax.plot(kk_, p11, label = \"p1\")\n",
    "ax.plot(kk_, p21, label = \"p2\")\n",
    "ax.plot(kk_, p22, label = \"p3\")\n",
    "ax.set_xlabel(\"k\")\n",
    "ax.legend();"
   ]
  },
  {
   "cell_type": "code",
   "execution_count": null,
   "metadata": {},
   "outputs": [],
   "source": [
    "f = plt.figure()\n",
    "ax = plt.gca()\n",
    "kk_ = np.arange(0,h)\n",
    "ax.plot(kk_, k1, label = \"k1\")\n",
    "ax.plot(kk_, k2, label = \"k2\")\n",
    "ax.set_xlabel(\"k\")\n",
    "ax.legend();"
   ]
  }
 ],
 "metadata": {
  "kernelspec": {
   "display_name": "Python 3",
   "language": "python",
   "name": "python3"
  },
  "language_info": {
   "codemirror_mode": {
    "name": "ipython",
    "version": 3
   },
   "file_extension": ".py",
   "mimetype": "text/x-python",
   "name": "python",
   "nbconvert_exporter": "python",
   "pygments_lexer": "ipython3",
   "version": "3.7.9"
  }
 },
 "nbformat": 4,
 "nbformat_minor": 4
}
